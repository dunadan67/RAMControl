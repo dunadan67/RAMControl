{
 "cells": [
  {
   "cell_type": "code",
   "execution_count": 1,
   "metadata": {
    "collapsed": false
   },
   "outputs": [],
   "source": [
    "import codecs\n",
    "from ramcontrol.models import Database\n",
    "from wordpool.data import read_list"
   ]
  },
  {
   "cell_type": "code",
   "execution_count": 2,
   "metadata": {
    "collapsed": false
   },
   "outputs": [],
   "source": [
    "import json"
   ]
  },
  {
   "cell_type": "code",
   "execution_count": 3,
   "metadata": {
    "collapsed": false
   },
   "outputs": [],
   "source": [
    "practice = {\n",
    "    \"english\": read_list(\"practice_en.txt\"),\n",
    "    \"spanish\": read_list(\"practice_sp.txt\")\n",
    "}\n",
    "\n",
    "target = {\n",
    "    \"english\": read_list(\"ram_wordpool_en.txt\"),\n",
    "    \"spanish\": read_list(\"ram_wordpool_sp.txt\")\n",
    "}\n",
    "\n",
    "with codecs.open(\"experiments/RAM_FR/pools_EN/FR5_RecognitionTaskLures.txt\", encoding=\"utf-8\") as lures_en:\n",
    "    lure = {\n",
    "        \"english\": lures_en.read().split()\n",
    "    }"
   ]
  },
  {
   "cell_type": "code",
   "execution_count": 4,
   "metadata": {
    "collapsed": true
   },
   "outputs": [],
   "source": [
    "db = Database(\"sqlite:///ramcontrol.sqlite\")"
   ]
  },
  {
   "cell_type": "code",
   "execution_count": 5,
   "metadata": {
    "collapsed": false
   },
   "outputs": [],
   "source": [
    "def insert_words(source):\n",
    "    d = globals()[source]\n",
    "    with db.engine.connect() as conn:\n",
    "        for language in d:\n",
    "            conn.execute(db.words.insert(), [{\n",
    "                \"word\": word,\n",
    "                \"language\": language,\n",
    "                \"type\": source\n",
    "            } for word in d[language]])"
   ]
  },
  {
   "cell_type": "code",
   "execution_count": 6,
   "metadata": {
    "collapsed": false
   },
   "outputs": [],
   "source": [
    "insert_words(\"target\")\n",
    "insert_words(\"practice\")\n",
    "insert_words(\"lure\")"
   ]
  },
  {
   "cell_type": "code",
   "execution_count": 7,
   "metadata": {
    "collapsed": true
   },
   "outputs": [],
   "source": [
    "with open(\"ramcontrol.json\") as jf:\n",
    "    config = json.load(jf)"
   ]
  },
  {
   "cell_type": "code",
   "execution_count": 8,
   "metadata": {
    "collapsed": true
   },
   "outputs": [],
   "source": [
    "experiments = [{\n",
    "    \"experiment\": experiment,\n",
    "    \"ps4able\": experiment in config[\"ps4able\"]\n",
    "} for experiment in config[\"experiments\"].keys()]\n",
    "\n",
    "with db.engine.connect() as conn:\n",
    "    conn.execute(db.experiments.insert(), sorted(experiments, key=lambda x: x[\"experiment\"].lower()))"
   ]
  },
  {
   "cell_type": "code",
   "execution_count": null,
   "metadata": {
    "collapsed": true
   },
   "outputs": [],
   "source": []
  }
 ],
 "metadata": {
  "anaconda-cloud": {},
  "kernelspec": {
   "display_name": "Python [conda env:ram]",
   "language": "python",
   "name": "conda-env-ram-py"
  },
  "language_info": {
   "codemirror_mode": {
    "name": "ipython",
    "version": 2
   },
   "file_extension": ".py",
   "mimetype": "text/x-python",
   "name": "python",
   "nbconvert_exporter": "python",
   "pygments_lexer": "ipython2",
   "version": "2.7.13"
  }
 },
 "nbformat": 4,
 "nbformat_minor": 2
}
